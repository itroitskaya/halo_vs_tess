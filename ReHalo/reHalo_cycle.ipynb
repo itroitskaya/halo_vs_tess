{
 "cells": [
  {
   "cell_type": "code",
   "execution_count": null,
   "id": "668bb79c",
   "metadata": {},
   "outputs": [],
   "source": [
    "import numpy as np\n",
    "import matplotlib \n",
    "import matplotlib as mpl\n",
    "\n",
    "import halophot\n",
    "from halophot.halo_tools import halo_tpf\n",
    "\n",
    "import lightkurve as lk\n",
    "\n",
    "import k2sc \n",
    "\n",
    "from astropy.table import Table\n",
    "from astropy.io import fits\n",
    "\n",
    "from astropy.timeseries import LombScargle\n",
    "from scipy.signal import savgol_filter as savgol\n",
    "from scipy import ndimage\n",
    "from scipy import ndimage\n",
    "\n",
    "%pylab inline --no-import-all\n",
    "matplotlib.rcParams['image.origin'] = 'lower'\n",
    "matplotlib.rcParams['figure.figsize']=(10.0,10.0)    #(6.0,4.0)\n",
    "matplotlib.rcParams['font.size']=16              #10 \n",
    "matplotlib.rcParams['savefig.dpi']= 300             #72 \n",
    "colours = mpl.rcParams['axes.prop_cycle'].by_key()['color']\n",
    "from mpl_toolkits.axes_grid1 import make_axes_locatable\n",
    "\n",
    "print(lk.__version__)\n",
    "print(k2sc.__version__)\n",
    "print(halophot.__version__)"
   ]
  },
  {
   "cell_type": "code",
   "execution_count": null,
   "id": "5306ef17",
   "metadata": {},
   "outputs": [],
   "source": []
  }
 ],
 "metadata": {
  "kernelspec": {
   "display_name": "Python 3 (ipykernel)",
   "language": "python",
   "name": "python3"
  },
  "language_info": {
   "codemirror_mode": {
    "name": "ipython",
    "version": 3
   },
   "file_extension": ".py",
   "mimetype": "text/x-python",
   "name": "python",
   "nbconvert_exporter": "python",
   "pygments_lexer": "ipython3",
   "version": "3.8.11"
  }
 },
 "nbformat": 4,
 "nbformat_minor": 5
}
