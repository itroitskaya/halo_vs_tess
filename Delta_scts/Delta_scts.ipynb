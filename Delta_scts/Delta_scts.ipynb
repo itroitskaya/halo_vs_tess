{
 "cells": [
  {
   "cell_type": "code",
   "execution_count": 1,
   "id": "b1988ba2",
   "metadata": {},
   "outputs": [],
   "source": [
    "import pandas as pd\n",
    "import lightkurve as lk\n",
    "import numpy as np\n",
    "import matplotlib.pyplot as plt\n",
    "from matplotlib.backends.backend_pdf import PdfPages\n",
    "from astropy.io import fits\n",
    "from astropy.utils.data import get_pkg_data_filename\n",
    "from astropy.timeseries import LombScargle\n",
    "from astropy.table import Table\n",
    "from scipy.signal import savgol_filter as savgol\n",
    "from pathlib import Path\n",
    "from scipy import ndimage\n",
    "\n",
    "import warnings\n",
    "warnings.filterwarnings(\"ignore\")\n",
    "\n",
    "%matplotlib inline"
   ]
  },
  {
   "cell_type": "code",
   "execution_count": 6,
   "id": "a62e3c7e",
   "metadata": {},
   "outputs": [],
   "source": [
    "observed_stars = pd.read_csv(\"observedTESSnK2.csv\", index_col = 0)"
   ]
  },
  {
   "cell_type": "code",
   "execution_count": 82,
   "id": "aa4e5d1b",
   "metadata": {},
   "outputs": [],
   "source": [
    "delta_sct = pd.DataFrame({'Name': [\"Ascella\", \"Revati\", \"Porrima\", \"Zaniah\", \"kap Psc\", \"83 Aqr\", \"tet2 Tau\", \"ups Tau\", \"rho Tau\", \"HR 1427\", \"15 Ori\", \"97 Tau\", \"56 Tau\", \"80 Tau\", \"51 Tau\", \"89 Tau\", \"HR 1554\", \"HR 1385\", \"45 Cnc\", \"50 Cnc\", \"HR 5059\", \"49 Cnc\"]})"
   ]
  },
  {
   "cell_type": "code",
   "execution_count": 83,
   "id": "0a6bae63",
   "metadata": {},
   "outputs": [],
   "source": [
    "#delta_sct = pd.DataFrame({'Name': [\"Revati\"]})"
   ]
  },
  {
   "cell_type": "code",
   "execution_count": 84,
   "id": "493f15b6",
   "metadata": {},
   "outputs": [],
   "source": [
    "delta_sc_merged =observed_stars.merge(delta_sct, on='Name')[[\"Name\", \"EPIC ID\"]]"
   ]
  },
  {
   "cell_type": "code",
   "execution_count": 85,
   "id": "fe6e6d5d",
   "metadata": {},
   "outputs": [
    {
     "data": {
      "text/html": [
       "<div>\n",
       "<style scoped>\n",
       "    .dataframe tbody tr th:only-of-type {\n",
       "        vertical-align: middle;\n",
       "    }\n",
       "\n",
       "    .dataframe tbody tr th {\n",
       "        vertical-align: top;\n",
       "    }\n",
       "\n",
       "    .dataframe thead th {\n",
       "        text-align: right;\n",
       "    }\n",
       "</style>\n",
       "<table border=\"1\" class=\"dataframe\">\n",
       "  <thead>\n",
       "    <tr style=\"text-align: right;\">\n",
       "      <th></th>\n",
       "      <th>Name</th>\n",
       "      <th>EPIC ID</th>\n",
       "    </tr>\n",
       "  </thead>\n",
       "  <tbody>\n",
       "    <tr>\n",
       "      <th>0</th>\n",
       "      <td>Porrima</td>\n",
       "      <td>200084004</td>\n",
       "    </tr>\n",
       "    <tr>\n",
       "      <th>1</th>\n",
       "      <td>Zaniah</td>\n",
       "      <td>200084005</td>\n",
       "    </tr>\n",
       "    <tr>\n",
       "      <th>2</th>\n",
       "      <td>tet2 Tau</td>\n",
       "      <td>200173845</td>\n",
       "    </tr>\n",
       "    <tr>\n",
       "      <th>3</th>\n",
       "      <td>ups Tau</td>\n",
       "      <td>200173848</td>\n",
       "    </tr>\n",
       "    <tr>\n",
       "      <th>4</th>\n",
       "      <td>rho Tau</td>\n",
       "      <td>200173851</td>\n",
       "    </tr>\n",
       "    <tr>\n",
       "      <th>5</th>\n",
       "      <td>HR 1427</td>\n",
       "      <td>200173855</td>\n",
       "    </tr>\n",
       "    <tr>\n",
       "      <th>6</th>\n",
       "      <td>15 Ori</td>\n",
       "      <td>200173854</td>\n",
       "    </tr>\n",
       "    <tr>\n",
       "      <th>7</th>\n",
       "      <td>97 Tau</td>\n",
       "      <td>200173857</td>\n",
       "    </tr>\n",
       "    <tr>\n",
       "      <th>8</th>\n",
       "      <td>56 Tau</td>\n",
       "      <td>200173861</td>\n",
       "    </tr>\n",
       "    <tr>\n",
       "      <th>9</th>\n",
       "      <td>80 Tau</td>\n",
       "      <td>200173866</td>\n",
       "    </tr>\n",
       "    <tr>\n",
       "      <th>10</th>\n",
       "      <td>51 Tau</td>\n",
       "      <td>200173865</td>\n",
       "    </tr>\n",
       "    <tr>\n",
       "      <th>11</th>\n",
       "      <td>89 Tau</td>\n",
       "      <td>200173868</td>\n",
       "    </tr>\n",
       "    <tr>\n",
       "      <th>12</th>\n",
       "      <td>HR 1554</td>\n",
       "      <td>200173874</td>\n",
       "    </tr>\n",
       "    <tr>\n",
       "      <th>13</th>\n",
       "      <td>HR 1385</td>\n",
       "      <td>200173875</td>\n",
       "    </tr>\n",
       "    <tr>\n",
       "      <th>14</th>\n",
       "      <td>kap Psc</td>\n",
       "      <td>200164167</td>\n",
       "    </tr>\n",
       "    <tr>\n",
       "      <th>15</th>\n",
       "      <td>83 Aqr</td>\n",
       "      <td>200164168</td>\n",
       "    </tr>\n",
       "    <tr>\n",
       "      <th>16</th>\n",
       "      <td>Revati</td>\n",
       "      <td>200068393</td>\n",
       "    </tr>\n",
       "    <tr>\n",
       "      <th>17</th>\n",
       "      <td>45 Cnc</td>\n",
       "      <td>200200728</td>\n",
       "    </tr>\n",
       "    <tr>\n",
       "      <th>18</th>\n",
       "      <td>50 Cnc</td>\n",
       "      <td>200200363</td>\n",
       "    </tr>\n",
       "    <tr>\n",
       "      <th>19</th>\n",
       "      <td>HR 5059</td>\n",
       "      <td>200213058</td>\n",
       "    </tr>\n",
       "    <tr>\n",
       "      <th>20</th>\n",
       "      <td>49 Cnc</td>\n",
       "      <td>200233189</td>\n",
       "    </tr>\n",
       "    <tr>\n",
       "      <th>21</th>\n",
       "      <td>Ascella</td>\n",
       "      <td>200062593</td>\n",
       "    </tr>\n",
       "  </tbody>\n",
       "</table>\n",
       "</div>"
      ],
      "text/plain": [
       "        Name    EPIC ID\n",
       "0    Porrima  200084004\n",
       "1     Zaniah  200084005\n",
       "2   tet2 Tau  200173845\n",
       "3    ups Tau  200173848\n",
       "4    rho Tau  200173851\n",
       "5    HR 1427  200173855\n",
       "6     15 Ori  200173854\n",
       "7     97 Tau  200173857\n",
       "8     56 Tau  200173861\n",
       "9     80 Tau  200173866\n",
       "10    51 Tau  200173865\n",
       "11    89 Tau  200173868\n",
       "12   HR 1554  200173874\n",
       "13   HR 1385  200173875\n",
       "14   kap Psc  200164167\n",
       "15    83 Aqr  200164168\n",
       "16    Revati  200068393\n",
       "17    45 Cnc  200200728\n",
       "18    50 Cnc  200200363\n",
       "19   HR 5059  200213058\n",
       "20    49 Cnc  200233189\n",
       "21   Ascella  200062593"
      ]
     },
     "execution_count": 85,
     "metadata": {},
     "output_type": "execute_result"
    }
   ],
   "source": [
    "delta_sc_merged"
   ]
  },
  {
   "cell_type": "code",
   "execution_count": null,
   "id": "4faf59cf",
   "metadata": {},
   "outputs": [
    {
     "name": "stdout",
     "output_type": "stream",
     "text": [
      "Porrima 200084004\n",
      "Zaniah 200084005\n",
      "tet2 Tau 200173845\n",
      "ups Tau 200173848\n",
      "rho Tau 200173851\n",
      "HR 1427 200173855\n",
      "15 Ori 200173854\n",
      "97 Tau 200173857\n",
      "56 Tau 200173861\n",
      "80 Tau 200173866\n",
      "51 Tau 200173865\n",
      "89 Tau 200173868\n",
      "HR 1554 200173874\n",
      "HR 1385 200173875\n",
      "kap Psc 200164167\n",
      "83 Aqr 200164168\n",
      "Revati 200068393\n",
      "45 Cnc 200200728\n",
      "50 Cnc 200200363\n",
      "HR 5059 200213058\n",
      "49 Cnc 200233189"
     ]
    }
   ],
   "source": [
    "for index, row in delta_sc_merged.iterrows():\n",
    "    print(row[\"Name\"], row[\"EPIC ID\"], end='')\n",
    "    \n",
    "    name = row[\"Name\"]\n",
    "    epic_id = row[\"EPIC ID\"]\n",
    "\n",
    "    #download tess\n",
    "    lc_search = lk.search_lightcurve(name,exptime=120)    \n",
    "    lc = lc_search.download_all()\n",
    "        \n",
    "    lc[0] = lc[0].remove_nans().normalize()\n",
    "    tess_time = lc[0].time.value\n",
    "    tess_flux = lc[0].flux.value\n",
    "    min_freq_tess = 1/10.\n",
    "    max_freq_tess = 360.\n",
    "    freqs_tess = np.logspace(np.log10(min_freq_tess),np.log10(max_freq_tess),100000) # tess from 10 day period to 360 c/d nyquist\n",
    "    ls_tess = LombScargle(tess_time, tess_flux, normalization='standard')\n",
    "    power_tess = ls_tess.power(freqs_tess)\n",
    "    max_freq_tess = np.round(freqs_tess[power_tess.argmax()], 3)\n",
    "    \n",
    "    tess_smothed_periodogram = ndimage.gaussian_filter1d(power_tess,3)\n",
    "    \n",
    "    tess_tpf =  lk.search_targetpixelfile(name,exptime=120).download();\n",
    "    \n",
    "    #download halo\n",
    "    \n",
    "    halo_filename = Path('/Users/uqitroit/Dev/halo_vs_tess/Tess_light_curve/fits/hlsp_halo_k2_llc_%s_lc.fits' % epic_id)\n",
    "    halo = Table.read(halo_filename)\n",
    "    print('')\n",
    "    \n",
    "    m = np.isfinite(halo['corr_flux'])\n",
    "    halo = halo[m]\n",
    "    halo_flux = halo['flux']\n",
    "    halo_time = halo['time']\n",
    "    halo_corr_flux = halo['corr_flux']\n",
    "    \n",
    "    halo_normalized_flux = halo_corr_flux/np.nanmedian(halo_corr_flux)\n",
    "    halo_trend = savgol(halo_corr_flux/np.nanmedian(halo_corr_flux),701,3)\n",
    "    \n",
    "    halo_lc = LombScargle(halo_time,halo_corr_flux/np.nanmedian(halo_corr_flux)-halo_trend+np.nanmedian(halo_trend),normalization='standard') #+np.nanmedian(halo_trend)\n",
    "    freqs_halo = np.linspace((1/30.),24.,100000)\n",
    "    power_halo = halo_lc.power(freqs_halo)\n",
    "    max_freq_halo = np.round(freqs_halo[power_halo.argmax()], 3)\n",
    "    \n",
    "    halo_smothed_periodogram = ndimage.gaussian_filter1d(power_halo,100)\n",
    "    \n",
    "    fig = plt.figure(figsize=(12.0,9.0))\n",
    "    plt.plot(freqs_tess, -power_tess, '-,' ,label=\"TESS\")\n",
    "    plt.plot(freqs_halo, power_halo,'-,' , label=\"K2\")\n",
    "    plt.legend(loc=\"upper right\", )\n",
    "    ylim_set = np.max((np.max(power_tess), np.max(power_halo).value))\n",
    "    #plt.axvline(1/30., alpha=0.5,linestyle='--',color='k')\n",
    "    plt.axvline(24., alpha=0.5,linestyle='--',color='k') \n",
    "    #thruster fire harmonics\n",
    "    #plt.axvline(1/30., alpha=0.5,linestyle='--',color='k')\n",
    "    #plt.axvline(4.08, alpha=0.3,linestyle='-',color='r')\n",
    "    #plt.axvline(8.16, alpha=0.3,linestyle='-',color='r')\n",
    "    #plt.axvline(12.24, alpha=0.3,linestyle='-',color='r')\n",
    "    #plt.axvline(16.32, alpha=0.3,linestyle='-',color='r')\n",
    "    plt.xlim(-12., 60)\n",
    "    plt.ylim(-ylim_set, ylim_set)\n",
    "    plt.ylabel('Power')\n",
    "    plt.xlabel('Frequency, c/d')\n",
    "    plt.title('TESS vs K2 periods')\n",
    "    plt.grid(True)\n",
    "    \n",
    "    pp = PdfPages('dl_sc_freq/%s_%s.pdf' % (epic_id, name))\n",
    "    pp.savefig(fig)\n",
    "    pp.close()"
   ]
  },
  {
   "cell_type": "code",
   "execution_count": 81,
   "id": "236730e9",
   "metadata": {},
   "outputs": [
    {
     "data": {
      "image/png": "[encoded data removed]",
      "text/plain": [
       "<Figure size 864x648 with 1 Axes>"
      ]
     },
     "metadata": {
      "needs_background": "light"
     },
     "output_type": "display_data"
    }
   ],
   "source": [
    "fig = plt.figure(figsize=(12.0,9.0))\n",
    "plt.plot(freqs_tess, -power_tess, '-,' ,label=\"TESS\")\n",
    "plt.plot(freqs_halo, power_halo,'-,' , label=\"K2\")\n",
    "plt.legend(loc=\"upper right\", )\n",
    "ylim_set = np.max((np.max(power_tess), np.max(power_halo).value))\n",
    "#plt.axvline(1/30., alpha=0.5,linestyle='--',color='k')\n",
    "plt.axvline(24., alpha=0.5,linestyle='--',color='k') \n",
    "#thruster fire harmonics\n",
    "#plt.axvline(1/30., alpha=0.5,linestyle='--',color='k')\n",
    "plt.axvline(4.08, alpha=0.3,linestyle='-',color='r')\n",
    "plt.axvline(8.16, alpha=0.3,linestyle='-',color='r')\n",
    "plt.axvline(12.24, alpha=0.3,linestyle='-',color='r')\n",
    "plt.axvline(16.32, alpha=0.3,linestyle='-',color='r')\n",
    "plt.xlim(-12., 60)\n",
    "plt.ylim(-ylim_set, ylim_set)\n",
    "plt.ylabel('Power')\n",
    "plt.xlabel('Frequency, c/d')\n",
    "plt.title('TESS vs K2 periods')\n",
    "plt.grid(True)\n"
   ]
  },
  {
   "cell_type": "code",
   "execution_count": 58,
   "id": "2b1adcee",
   "metadata": {},
   "outputs": [
    {
     "data": {
      "text/plain": [
       "0.46208285200716154"
      ]
     },
     "execution_count": 58,
     "metadata": {},
     "output_type": "execute_result"
    }
   ],
   "source": [
    "np.max(power_tess)"
   ]
  },
  {
   "cell_type": "code",
   "execution_count": 72,
   "id": "3212f495",
   "metadata": {},
   "outputs": [],
   "source": [
    "ylim = np.max((np.max(power_tess), np.max(power_halo).value))"
   ]
  },
  {
   "cell_type": "code",
   "execution_count": 73,
   "id": "e322e909",
   "metadata": {},
   "outputs": [
    {
     "data": {
      "text/plain": [
       "0.46208285200716154"
      ]
     },
     "execution_count": 73,
     "metadata": {},
     "output_type": "execute_result"
    }
   ],
   "source": [
    "ylim"
   ]
  },
  {
   "cell_type": "code",
   "execution_count": 69,
   "id": "b3bc53e4",
   "metadata": {},
   "outputs": [
    {
     "data": {
      "text/plain": [
       "0.23183004511681196"
      ]
     },
     "execution_count": 69,
     "metadata": {},
     "output_type": "execute_result"
    }
   ],
   "source": [
    " np.max(power_halo).value"
   ]
  },
  {
   "cell_type": "code",
   "execution_count": null,
   "id": "080b8502",
   "metadata": {},
   "outputs": [],
   "source": []
  }
 ],
 "metadata": {
  "kernelspec": {
   "display_name": "Python 3 (ipykernel)",
   "language": "python",
   "name": "python3"
  },
  "language_info": {
   "codemirror_mode": {
    "name": "ipython",
    "version": 3
   },
   "file_extension": ".py",
   "mimetype": "text/x-python",
   "name": "python",
   "nbconvert_exporter": "python",
   "pygments_lexer": "ipython3",
   "version": "3.9.7"
  }
 },
 "nbformat": 4,
 "nbformat_minor": 5
}
