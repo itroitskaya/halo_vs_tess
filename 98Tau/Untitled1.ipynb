{
 "cells": [
  {
   "cell_type": "code",
   "execution_count": null,
   "id": "bfc0885f",
   "metadata": {},
   "outputs": [],
   "source": [
    "ls_halo_left_no_trend.nterms = 2\n",
    "1/freqs_halo[np.argmax(power_halo_left_no_trend)]\n",
    "\n"
   ]
  },
  {
   "cell_type": "code",
   "execution_count": null,
   "id": "1fa30ea4",
   "metadata": {},
   "outputs": [],
   "source": [
    "period = 0.8643740356730731\n",
    "y_fit_left_halo_no_trend = ls_halo_left_no_trend.model(xdata_left_halo,1/(2*period))\n",
    "# y_fit_right, delta_right, ff_right, pp_right = iterative_sine_fit(xdata_right, ydata_right, 2)\n",
    "\n",
    "phase = (xdata_left_halo) % (period*2)\n",
    "args = np.argsort(phase)\n",
    "fig = plt.figure(figsize=(12.0,9.0))\n",
    "\n",
    "plt.plot(phase, ydata_left_halo_no_trend,'.',alpha=0.2, label=\"Detrended data\" )\n",
    "plt.plot(phase[args], y_fit_left_halo_no_trend[args],'-', label=\"Sin fit without trend\" )\n",
    "plt.plot(phase[args], y_fit_left_halo[args],'-', label=\"Sin fit with trend\" )\n",
    "plt.legend(loc=\"upper right\")"
   ]
  },
  {
   "cell_type": "code",
   "execution_count": null,
   "id": "44e81956",
   "metadata": {},
   "outputs": [],
   "source": [
    "for j in range(5):\n",
    "    plt.plot(dm[:,j]+j*2)"
   ]
  },
  {
   "cell_type": "code",
   "execution_count": null,
   "id": "1d7b82ea",
   "metadata": {},
   "outputs": [],
   "source": [
    "constant = coeffs[0]\n",
    "fundamental = np.sqrt(coeffs[1]**2 + coeffs[2]**2)\n",
    "harmonic = np.sqrt(coeffs[3]**2 + coeffs[4]**2)\n",
    "print('Constant:',constant)\n",
    "print('Fundamental: %.2g' % fundamental)\n",
    "print('Harmonic: %.2g' % harmonic)"
   ]
  },
  {
   "cell_type": "markdown",
   "id": "f25327e5",
   "metadata": {},
   "source": [
    "TESS left (before the eclipse)\n",
    "\n",
    "Constant: 1.0011977116540223\n",
    "Fundamental: 0.0063\n",
    "Harmonic: 6.17661331e-05\n",
    "\n",
    "\n",
    "TESS right (after eclipse)\n",
    "\n",
    "Constant: 1.0008980344977125\n",
    "Fundamental: 0.0063\n",
    "Harmonic: 5.96632646e-05\n",
    "    \n",
    "Halo left (before eclipse) \n",
    "\n",
    "Constant: 1.000931101701078\n",
    "Fundamental: 0.0049\n",
    "Harmonic: 0.000126719175\n",
    "\n",
    "\n",
    "Halo right (after eclipse)\n",
    "\n",
    "Constant: 0.9968839023745706\n",
    "Fundamental: 0.0049\n",
    "Harmonic: 5.56163763e-05"
   ]
  },
  {
   "cell_type": "code",
   "execution_count": null,
   "id": "a4f2a0de",
   "metadata": {},
   "outputs": [],
   "source": []
  },
  {
   "cell_type": "code",
   "execution_count": null,
   "id": "3b93bd6a",
   "metadata": {},
   "outputs": [],
   "source": []
  },
  {
   "cell_type": "code",
   "execution_count": null,
   "id": "243926ce",
   "metadata": {},
   "outputs": [],
   "source": []
  }
 ],
 "metadata": {
  "kernelspec": {
   "display_name": "Python 3 (ipykernel)",
   "language": "python",
   "name": "python3"
  },
  "language_info": {
   "codemirror_mode": {
    "name": "ipython",
    "version": 3
   },
   "file_extension": ".py",
   "mimetype": "text/x-python",
   "name": "python",
   "nbconvert_exporter": "python",
   "pygments_lexer": "ipython3",
   "version": "3.9.7"
  }
 },
 "nbformat": 4,
 "nbformat_minor": 5
}
