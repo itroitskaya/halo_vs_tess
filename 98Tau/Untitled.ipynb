{
 "cells": [
  {
   "cell_type": "code",
   "execution_count": 1,
   "id": "0cb15417",
   "metadata": {},
   "outputs": [],
   "source": [
    "import pandas as pd\n",
    "import lightkurve as lk\n",
    "import numpy as np\n",
    "import numpy.polynomial.polynomial as poly\n",
    "import matplotlib.pyplot as plt\n",
    "from matplotlib.backends.backend_pdf import PdfPages\n",
    "from astropy.io import fits\n",
    "from astropy import units as u\n",
    "from astropy.utils.data import get_pkg_data_filename\n",
    "from astropy.timeseries import LombScargle\n",
    "from astropy.table import Table\n",
    "from scipy.signal import savgol_filter as savgol\n",
    "from pathlib import Path\n",
    "from scipy import ndimage\n",
    "\n",
    "from astropy.table import Table \n",
    "from astropy.io import fits\n",
    "\n",
    "import astropy.units as u\n",
    "from astropy.visualization import quantity_support, time_support\n",
    "time_support()\n",
    "quantity_support()\n",
    "\n",
    "import copy\n",
    "import warnings\n",
    "warnings.filterwarnings(\"ignore\")\n",
    "\n",
    "%matplotlib inline"
   ]
  },
  {
   "cell_type": "code",
   "execution_count": 2,
   "id": "486552a1",
   "metadata": {},
   "outputs": [],
   "source": [
    "name = \"98 Tau\"\n",
    "epic_id = \"200173870\""
   ]
  },
  {
   "cell_type": "code",
   "execution_count": 3,
   "id": "3bdfbffe",
   "metadata": {},
   "outputs": [],
   "source": [
    "search_result = lk.search_targetpixelfile(epic_id, author=\"K2\", cadence=\"long\")"
   ]
  },
  {
   "cell_type": "code",
   "execution_count": 4,
   "id": "b19b76b8",
   "metadata": {},
   "outputs": [],
   "source": [
    "tpf = search_result[0].download()"
   ]
  },
  {
   "cell_type": "code",
   "execution_count": 5,
   "id": "35c66edf",
   "metadata": {},
   "outputs": [
    {
     "data": {
      "text/plain": [
       "'/Users/uqitroit/.lightkurve-cache/mastDownload/K2/ktwo200173870-c13_lc/ktwo200173870-c13_lpd-targ.fits.gz'"
      ]
     },
     "execution_count": 5,
     "metadata": {},
     "output_type": "execute_result"
    }
   ],
   "source": [
    "tpf.path"
   ]
  },
  {
   "cell_type": "code",
   "execution_count": null,
   "id": "ea9a3b07",
   "metadata": {},
   "outputs": [],
   "source": []
  }
 ],
 "metadata": {
  "kernelspec": {
   "display_name": "Python 3 (ipykernel)",
   "language": "python",
   "name": "python3"
  },
  "language_info": {
   "codemirror_mode": {
    "name": "ipython",
    "version": 3
   },
   "file_extension": ".py",
   "mimetype": "text/x-python",
   "name": "python",
   "nbconvert_exporter": "python",
   "pygments_lexer": "ipython3",
   "version": "3.9.7"
  }
 },
 "nbformat": 4,
 "nbformat_minor": 5
}
